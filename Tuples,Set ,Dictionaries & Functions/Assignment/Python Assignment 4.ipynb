{
 "cells": [
  {
   "cell_type": "markdown",
   "metadata": {},
   "source": [
    "### Question 1.1\n",
    "\n",
    "Write a Python Program(with class concepts) to find the area of the triangle using the below\n",
    "formula.\n",
    "\n",
    "area = (s*(s-a)*(s-b)*(s-c)) ** 0.5\n",
    "\n",
    "Function to take the length of the sides of triangle from user should be defined in the parent\n",
    "class and function to calculate the area should be defined in subclass."
   ]
  },
  {
   "cell_type": "code",
   "execution_count": 9,
   "metadata": {},
   "outputs": [
    {
     "data": {
      "text/plain": [
       "96.82458365518542"
      ]
     },
     "execution_count": 9,
     "metadata": {},
     "output_type": "execute_result"
    }
   ],
   "source": [
    "class Triangle():\n",
    "    \n",
    "    def __init__(self,side1,side2,side3):\n",
    "        self.side1 = float(side1)\n",
    "        self.side2 = float(side2)\n",
    "        self.side3 = float(side3)\n",
    "        \n",
    "    def area(self):\n",
    "        semiPeri = (self.side1 + self.side2+ self.side3)/2\n",
    "        result = (semiPeri*(semiPeri-self.side1)*(semiPeri-self.side2)*(semiPeri-self.side3)) ** 0.5\n",
    "        return result\n",
    "    \n",
    "a = Triangle(20,20,10) \n",
    "a.area()"
   ]
  },
  {
   "cell_type": "markdown",
   "metadata": {},
   "source": [
    "### Question 1.2\n",
    "\n",
    "Write a function filter_long_words() that takes a list of words and an integer n and returns\n",
    "the list of words that are longer than n."
   ]
  },
  {
   "cell_type": "code",
   "execution_count": null,
   "metadata": {},
   "outputs": [],
   "source": [
    "a = [\"arun\",\"jaya\",\"Muthu\",\"Gokul\",\"Krishnan\",\"Vignesh\",\"Lakshmi\"]\n",
    "n = 5\n",
    "\n",
    "def filter_long_words(wordList,check):\n",
    "    result=[]\n",
    "    for i in wordList:\n",
    "        if len(i) > check:\n",
    "            result.append(i)\n",
    "    return result\n",
    "\n",
    "filter_long_words(a,5)"
   ]
  },
  {
   "cell_type": "markdown",
   "metadata": {},
   "source": [
    "### Question 2.1 \n",
    "\n",
    "Write a Python program using function concept that maps list of words into a list of integers\n",
    "representing the lengths of the corresponding words .\n",
    "\n",
    "Hint: If a list [ ab,cde,erty] is passed on to the python function output should come as [2,3,4]\n",
    "Here 2,3 and 4 are the lengths of the words in the list."
   ]
  },
  {
   "cell_type": "code",
   "execution_count": null,
   "metadata": {},
   "outputs": [],
   "source": [
    "a = [\"arun\",\"jaya\",\"Muthu\",\"Gokul\",\"Krishnan\",\"Vignesh\",\"Lakshmi\"]\n",
    "\n",
    "\n",
    "def length_wordList(wordList):\n",
    "    result=[]\n",
    "    for i in wordList:\n",
    "        result.append(len(i)) \n",
    "    return result\n",
    "\n",
    "length_wordList(a)"
   ]
  },
  {
   "cell_type": "markdown",
   "metadata": {},
   "source": [
    "### Question 2.2 \n",
    "\n",
    "Write a Python function which takes a character (i.e. a string of length 1) and returns True if\n",
    "it is a vowel, False otherwise."
   ]
  },
  {
   "cell_type": "code",
   "execution_count": null,
   "metadata": {},
   "outputs": [],
   "source": [
    "def vowelOrNot(character):\n",
    "    if len(character) == 1:\n",
    "        if character in [\"a\",\"e\",\"i\",\"o\",\"u\"]:\n",
    "            return True\n",
    "        else:\n",
    "            return False\n",
    "    else:\n",
    "        return print(\"Its not a character\")\n",
    "\n",
    "vowelOrNot(\"e\")"
   ]
  }
 ],
 "metadata": {
  "kernelspec": {
   "display_name": "Python 3",
   "language": "python",
   "name": "python3"
  },
  "language_info": {
   "codemirror_mode": {
    "name": "ipython",
    "version": 3
   },
   "file_extension": ".py",
   "mimetype": "text/x-python",
   "name": "python",
   "nbconvert_exporter": "python",
   "pygments_lexer": "ipython3",
   "version": "3.6.1"
  }
 },
 "nbformat": 4,
 "nbformat_minor": 2
}
